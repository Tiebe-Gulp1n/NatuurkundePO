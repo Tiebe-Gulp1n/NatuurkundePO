{
 "cells": [
  {
   "cell_type": "code",
   "execution_count": 30,
   "id": "88cbc0e9e60e713b",
   "metadata": {
    "collapsed": false,
    "ExecuteTime": {
     "end_time": "2023-09-27T08:00:32.052511244Z",
     "start_time": "2023-09-27T08:00:32.011017253Z"
    }
   },
   "outputs": [
    {
     "name": "stdout",
     "output_type": "stream",
     "text": [
      "159 617 1.295 0.47 0.147 0.237 15.266666666666667 19.222172552525702\n"
     ]
    }
   ],
   "source": [
    "import math\n",
    "\n",
    "first_frame = 159 # first frame that the blower leaves\n",
    "last_frame = 617 # last frame just before blower hits wall\n",
    "\n",
    "height_body = 1.295 # height of blower in meters\n",
    "radius_body = 0.94 / 2 # radius of blower in meters\n",
    "\n",
    "height_top = 0.147 # height of top of blower in meters\n",
    "radius_top = 0.474 / 2 # radius of top of blower in meters\n",
    "\n",
    "total_time = (last_frame - first_frame) / 30 # total time in seconds\n",
    "speed = 43 / 2.237 # max speed of animal converted from mph to m/s\n",
    "\n",
    "print(first_frame, last_frame, height_body, radius_body, height_top, radius_top, total_time, speed)"
   ]
  },
  {
   "cell_type": "code",
   "execution_count": 31,
   "outputs": [
    {
     "name": "stdout",
     "output_type": "stream",
     "text": [
      "0.8987012732454909 0.7290050044691846 0.025939637310644307 0.19563590608695058 2700 528.2169464347666 1.293 0.9426034707786556\n"
     ]
    }
   ],
   "source": [
    "volume_body = math.pi * radius_body**2 * height_body # volume of blower in m^3\n",
    "volume_air = math.pi * (radius_body - 0.04)**2 * (height_body - 0.04) # volume of air in m^3\n",
    "\n",
    "volume_top = math.pi * radius_top**2 * height_top # volume of top of blower in m^3\n",
    "\n",
    "volume_steel = volume_body - volume_air + volume_top # volume of steel in m^3\n",
    "\n",
    "density_aluminium = 2700 # density of aluminium in kg/m^3\n",
    "mass_aluminium = volume_steel * density_aluminium # mass of aluminium in kg\n",
    "\n",
    "density_air = 1.293 # density of air in kg/m^3\n",
    "mass_air = volume_air * density_air # mass of air in kg\n",
    "\n",
    "print(volume_body, volume_air, volume_top, volume_steel, density_aluminium, mass_aluminium, density_air, mass_air)"
   ],
   "metadata": {
    "collapsed": false,
    "ExecuteTime": {
     "end_time": "2023-09-27T08:00:32.052835687Z",
     "start_time": "2023-09-27T08:00:32.052218780Z"
    }
   },
   "id": "4db985b38d249547"
  },
  {
   "cell_type": "code",
   "execution_count": 32,
   "outputs": [
    {
     "name": "stdout",
     "output_type": "stream",
     "text": [
      "529.1595499055452 5191.055184573399 0.01 51.91055184573399 1.9121303686074274 214.67863694457253 266.58918879030654\n"
     ]
    }
   ],
   "source": [
    "weight = mass_aluminium + mass_air # weight of blower in kg\n",
    "normal_force = 9.81 * weight\n",
    "\n",
    "roll_friction_coefficient = 0.01 # friction coefficient of the ground with the wheels\n",
    "\n",
    "ground_friction_newton = roll_friction_coefficient * normal_force\n",
    "\n",
    "frontal_area = 2 * math.pi * radius_body * height_body / 2 # frontal area of blower in m^2\n",
    "air_friction_newton = 0.5 * density_air * speed**2 * 0.47 * frontal_area # air friction in newton\n",
    "\n",
    "total_friction = ground_friction_newton + air_friction_newton # total friction in newton\n",
    "\n",
    "print(weight, normal_force, roll_friction_coefficient, ground_friction_newton, frontal_area, air_friction_newton, total_friction)"
   ],
   "metadata": {
    "collapsed": false,
    "ExecuteTime": {
     "end_time": "2023-09-27T08:00:32.053181050Z",
     "start_time": "2023-09-27T08:00:32.052388653Z"
    }
   },
   "id": "7b0cdbf3a11b47a7"
  },
  {
   "cell_type": "code",
   "execution_count": 32,
   "outputs": [],
   "source": [],
   "metadata": {
    "collapsed": false,
    "ExecuteTime": {
     "end_time": "2023-09-27T08:00:32.053458122Z",
     "start_time": "2023-09-27T08:00:32.052486322Z"
    }
   },
   "id": "2a4df97b4393ea9a"
  }
 ],
 "metadata": {
  "kernelspec": {
   "display_name": "Python 3 (ipykernel)",
   "language": "python",
   "name": "python3"
  },
  "language_info": {
   "codemirror_mode": {
    "name": "ipython",
    "version": 3
   },
   "file_extension": ".py",
   "mimetype": "text/x-python",
   "name": "python",
   "nbconvert_exporter": "python",
   "pygments_lexer": "ipython3",
   "version": "3.10.12"
  }
 },
 "nbformat": 4,
 "nbformat_minor": 5
}
